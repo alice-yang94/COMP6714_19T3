{
 "cells": [
  {
   "cell_type": "code",
   "execution_count": 99,
   "metadata": {},
   "outputs": [],
   "source": [
    "import project_part1 as project_part1"
   ]
  },
  {
   "cell_type": "code",
   "execution_count": 1,
   "metadata": {},
   "outputs": [],
   "source": [
    "import zhong_project_part1 as project_part1"
   ]
  },
  {
   "cell_type": "code",
   "execution_count": 122,
   "metadata": {},
   "outputs": [
    {
     "ename": "NameError",
     "evalue": "name 'zhong_project_part1' is not defined",
     "output_type": "error",
     "traceback": [
      "\u001b[0;31m---------------------------------------------------------------------------\u001b[0m",
      "\u001b[0;31mNameError\u001b[0m                                 Traceback (most recent call last)",
      "\u001b[0;32m<ipython-input-122-a6c0b70cf785>\u001b[0m in \u001b[0;36m<module>\u001b[0;34m\u001b[0m\n\u001b[1;32m      1\u001b[0m \u001b[0;32mimport\u001b[0m \u001b[0mimportlib\u001b[0m\u001b[0;34m\u001b[0m\u001b[0;34m\u001b[0m\u001b[0m\n\u001b[0;32m----> 2\u001b[0;31m \u001b[0mimportlib\u001b[0m\u001b[0;34m.\u001b[0m\u001b[0mreload\u001b[0m\u001b[0;34m(\u001b[0m\u001b[0mzhong_project_part1\u001b[0m\u001b[0;34m)\u001b[0m\u001b[0;34m\u001b[0m\u001b[0;34m\u001b[0m\u001b[0m\n\u001b[0m",
      "\u001b[0;31mNameError\u001b[0m: name 'zhong_project_part1' is not defined"
     ]
    }
   ],
   "source": [
    "import importlib\n",
    "importlib.reload(zhong_project_part1)"
   ]
  },
  {
   "cell_type": "code",
   "execution_count": 83,
   "metadata": {},
   "outputs": [],
   "source": [
    "documents = {1: 'According to Los Angeles Times, The Boston Globe will be experiencing another recession in 2020. However, The Boston Globe decales it a hoax.',\n",
    "             2: 'The Washington Post declines the shares of George Washington.',\n",
    "             3: 'According to Los Angeles Times, the UNSW COMP6714 students should be able to finish project part-1 now.'}\n",
    "\n",
    "Q = 'Los The Angeles Boston Times Globe Washington Post'\n",
    "DoE = {'Los Angeles Times':0, 'The Boston Globe':1,'The Washington Post':2, 'Star Tribune':3, 'Times':4, 'Boston':5}\n",
    "\n",
    "doc_id = 1"
   ]
  },
  {
   "cell_type": "code",
   "execution_count": 90,
   "metadata": {},
   "outputs": [],
   "source": [
    "documents = {1: 'According to Times of India, President Donald Trump was on his way to New York City after his address at UNGA.',\n",
    "             2: 'The New York Times mentioned an interesting story about Trump.',\n",
    "             3: 'I think it would be great if I can travel to New York this summer to see Trump.'}\n",
    "Q = 'The New New York City Times of India'\n",
    "DoE = {'Times of India':0, 'The New York Times':1,'New York City':2}\n",
    "\n",
    "\n",
    "doc_id = 1"
   ]
  },
  {
   "cell_type": "code",
   "execution_count": 91,
   "metadata": {},
   "outputs": [],
   "source": [
    "index = project_part1.InvertedIndex()\n",
    "index.index_documents(documents)"
   ]
  },
  {
   "cell_type": "code",
   "execution_count": 92,
   "metadata": {},
   "outputs": [
    {
     "data": {
      "text/plain": [
       "defaultdict(dict,\n",
       "            {'According': {1: 1.0},\n",
       "             'Times': {1: 1.0, 2: 1.0},\n",
       "             'India': {1: 1.0},\n",
       "             'President': {1: 1.0},\n",
       "             'Donald': {1: 1.0},\n",
       "             'Trump': {1: 1.0},\n",
       "             'way': {1: 1.0},\n",
       "             'New': {1: 1.0, 2: 1.0, 3: 1.0},\n",
       "             'York': {1: 1.0, 2: 1.0, 3: 1.0},\n",
       "             'City': {1: 1.0},\n",
       "             'address': {1: 1.0},\n",
       "             'mentioned': {2: 1.0},\n",
       "             'interesting': {2: 1.0},\n",
       "             'story': {2: 1.0},\n",
       "             'think': {3: 1.0},\n",
       "             'great': {3: 1.0},\n",
       "             'travel': {3: 1.0},\n",
       "             'summer': {3: 1.0}})"
      ]
     },
     "execution_count": 92,
     "metadata": {},
     "output_type": "execute_result"
    }
   ],
   "source": [
    "index.tf_tokens"
   ]
  },
  {
   "cell_type": "code",
   "execution_count": 93,
   "metadata": {},
   "outputs": [
    {
     "data": {
      "text/plain": [
       "defaultdict(dict,\n",
       "            {'Times of India': {1: 1.0},\n",
       "             'Donald Trump': {1: 1.0},\n",
       "             'New York City': {1: 1.0},\n",
       "             'UNGA': {1: 1.0},\n",
       "             'The New York Times': {2: 1.0},\n",
       "             'Trump': {2: 1.0, 3: 1.0},\n",
       "             'New York': {3: 1.0},\n",
       "             'this summer': {3: 1.0}})"
      ]
     },
     "execution_count": 93,
     "metadata": {},
     "output_type": "execute_result"
    }
   ],
   "source": [
    "index.tf_entities"
   ]
  },
  {
   "cell_type": "code",
   "execution_count": 94,
   "metadata": {},
   "outputs": [
    {
     "name": "stdout",
     "output_type": "stream",
     "text": [
      "Possible query splits:\n",
      "\n",
      "{'tokens': ['The', 'New', 'New', 'York', 'City', 'Times', 'of', 'India'], 'entities': []}\n",
      "{'tokens': ['The', 'New', 'New', 'York', 'City'], 'entities': ['Times of India']}\n",
      "{'tokens': ['New', 'City', 'of', 'India'], 'entities': ['The New York Times']}\n",
      "{'tokens': ['The', 'New', 'Times', 'of', 'India'], 'entities': ['New York City']}\n",
      "{'tokens': ['The', 'New'], 'entities': ['Times of India', 'New York City']}\n"
     ]
    }
   ],
   "source": [
    "query_splits = index.split_query(Q, DoE)\n",
    "\n",
    "print('Possible query splits:\\n')\n",
    "for key,split in query_splits.items():\n",
    "    print(split)"
   ]
  },
  {
   "cell_type": "code",
   "execution_count": 95,
   "metadata": {},
   "outputs": [
    {
     "name": "stdout",
     "output_type": "stream",
     "text": [
      "Score for each query split:\n",
      "\n",
      "query =  {'tokens': ['The', 'New', 'New', 'York', 'City', 'Times', 'of', 'India'], 'entities': []}\n",
      "{'tokens_score': 5.947883998860986, 'entities_score': 0.0, 'combined_score': 2.3791535995443946}\n",
      "\n",
      "query =  {'tokens': ['The', 'New', 'New', 'York', 'City'], 'entities': ['Times of India']}\n",
      "{'tokens_score': 3.5424188907528213, 'entities_score': 1.4054651081081644, 'combined_score': 2.822432664409293}\n",
      "\n",
      "query =  {'tokens': ['New', 'City', 'of', 'India'], 'entities': ['The New York Times']}\n",
      "{'tokens_score': 3.5232481437645475, 'entities_score': 0.0, 'combined_score': 1.4092992575058192}\n",
      "\n",
      "query =  {'tokens': ['The', 'New', 'Times', 'of', 'India'], 'entities': ['New York City']}\n",
      "{'tokens_score': 3.117783035656384, 'entities_score': 1.4054651081081644, 'combined_score': 2.652578322370718}\n",
      "\n",
      "query =  {'tokens': ['The', 'New'], 'entities': ['Times of India', 'New York City']}\n",
      "{'tokens_score': 0.7123179275482191, 'entities_score': 2.8109302162163288, 'combined_score': 3.0958573872356165}\n",
      "\n"
     ]
    }
   ],
   "source": [
    "doc_id = 1\n",
    "\n",
    "print('Score for each query split:\\n')\n",
    "result = index.max_score_query(query_splits, doc_id)"
   ]
  },
  {
   "cell_type": "code",
   "execution_count": 96,
   "metadata": {},
   "outputs": [
    {
     "name": "stdout",
     "output_type": "stream",
     "text": [
      "The maximum score:\n"
     ]
    },
    {
     "data": {
      "text/plain": [
       "(3.0958573872356165,\n",
       " {'tokens': ['The', 'New'], 'entities': ['Times of India', 'New York City']})"
      ]
     },
     "execution_count": 96,
     "metadata": {},
     "output_type": "execute_result"
    }
   ],
   "source": [
    "print('The maximum score:')\n",
    "result"
   ]
  },
  {
   "cell_type": "code",
   "execution_count": 97,
   "metadata": {},
   "outputs": [
    {
     "data": {
      "text/plain": [
       "['b', 'c']"
      ]
     },
     "execution_count": 97,
     "metadata": {},
     "output_type": "execute_result"
    }
   ],
   "source": [
    "l = ['a','b','c']\n",
    "l.remove('a')\n",
    "l"
   ]
  },
  {
   "cell_type": "code",
   "execution_count": null,
   "metadata": {},
   "outputs": [],
   "source": []
  },
  {
   "cell_type": "code",
   "execution_count": null,
   "metadata": {},
   "outputs": [],
   "source": []
  },
  {
   "cell_type": "code",
   "execution_count": 25,
   "metadata": {},
   "outputs": [
    {
     "data": {
      "text/plain": [
       "124592"
      ]
     },
     "execution_count": 25,
     "metadata": {},
     "output_type": "execute_result"
    }
   ],
   "source": [
    "contents1 = []\n",
    "with open('test_doc1.txt', 'r') as file:\n",
    "    contents1 = file.read()\n",
    "contents1 = contents1.split()\n",
    "len(contents1)"
   ]
  },
  {
   "cell_type": "code",
   "execution_count": 26,
   "metadata": {},
   "outputs": [
    {
     "data": {
      "text/plain": [
       "107602"
      ]
     },
     "execution_count": 26,
     "metadata": {},
     "output_type": "execute_result"
    }
   ],
   "source": [
    "contents3 = []\n",
    "with open('test_doc3.txt', 'r') as file:\n",
    "    contents3 = file.read()\n",
    "contents3 = contents3.split()\n",
    "len(contents3)"
   ]
  },
  {
   "cell_type": "code",
   "execution_count": 27,
   "metadata": {},
   "outputs": [
    {
     "data": {
      "text/plain": [
       "78098"
      ]
     },
     "execution_count": 27,
     "metadata": {},
     "output_type": "execute_result"
    }
   ],
   "source": [
    "contents2 = []\n",
    "with open('test_doc2.txt', 'r') as file:\n",
    "    contents2 = file.read()\n",
    "contents2 = contents2.split()\n",
    "len(contents2)"
   ]
  },
  {
   "cell_type": "code",
   "execution_count": 30,
   "metadata": {},
   "outputs": [
    {
     "data": {
      "text/plain": [
       "250000"
      ]
     },
     "execution_count": 30,
     "metadata": {},
     "output_type": "execute_result"
    }
   ],
   "source": [
    "contents = contents1 + contents3 + contents2[:18000]\n",
    "contents = contents[:250000]\n",
    "len(contents)"
   ]
  },
  {
   "cell_type": "code",
   "execution_count": 41,
   "metadata": {},
   "outputs": [],
   "source": [
    "contents_dict = {}\n",
    "for i in range(500):\n",
    "    contents_dict[i] = ' '.join(contents[i*500:i*500+500])\n",
    "    \n"
   ]
  },
  {
   "cell_type": "code",
   "execution_count": null,
   "metadata": {},
   "outputs": [],
   "source": []
  },
  {
   "cell_type": "code",
   "execution_count": 42,
   "metadata": {},
   "outputs": [
    {
     "name": "stdout",
     "output_type": "stream",
     "text": [
      "True\n"
     ]
    }
   ],
   "source": [
    "import pickle\n",
    "\n",
    "\n",
    "with open('test_500docs.pickle', 'wb') as handle:\n",
    "    pickle.dump(contents_dict, handle, protocol=pickle.HIGHEST_PROTOCOL)\n",
    "\n",
    "with open('test_500docs.pickle', 'rb') as handle:\n",
    "    b = pickle.load(handle)\n",
    "\n",
    "print(contents_dict == b)"
   ]
  },
  {
   "cell_type": "code",
   "execution_count": 43,
   "metadata": {},
   "outputs": [
    {
     "data": {
      "text/plain": [
       "51.8660364151001"
      ]
     },
     "execution_count": 43,
     "metadata": {},
     "output_type": "execute_result"
    }
   ],
   "source": [
    "import time\n",
    "start = time.time()\n",
    "index = project_part1.InvertedIndex()\n",
    "index.index_documents(contents_dict)\n",
    "end = time.time()\n",
    "diff = end - start\n",
    "diff"
   ]
  },
  {
   "cell_type": "code",
   "execution_count": null,
   "metadata": {},
   "outputs": [],
   "source": []
  },
  {
   "cell_type": "code",
   "execution_count": 75,
   "metadata": {},
   "outputs": [],
   "source": [
    "documents = {}\n",
    "Q = 'A B B A C D F E G C F A D'\n",
    "DoE = {'A B':1, 'F A':2, 'D E G':3, 'D':4, 'A':5}"
   ]
  },
  {
   "cell_type": "code",
   "execution_count": 78,
   "metadata": {},
   "outputs": [
    {
     "name": "stdout",
     "output_type": "stream",
     "text": [
      "Possible query splits:\n",
      "\n",
      "{'tokens': ['A', 'B', 'B', 'A', 'C', 'D', 'F', 'E', 'G', 'C', 'F', 'A', 'D'], 'entities': []}\n",
      "{'tokens': ['B', 'A', 'C', 'D', 'F', 'E', 'G', 'C', 'F', 'A', 'D'], 'entities': ['A B']}\n",
      "{'tokens': ['B', 'B', 'A', 'C', 'D', 'E', 'G', 'C', 'F', 'A', 'D'], 'entities': ['F A']}\n",
      "{'tokens': ['A', 'B', 'B', 'A', 'C', 'F', 'C', 'F', 'A', 'D'], 'entities': ['D E G']}\n",
      "{'tokens': ['A', 'B', 'B', 'A', 'C', 'F', 'E', 'G', 'C', 'F', 'A', 'D'], 'entities': ['D']}\n",
      "{'tokens': ['B', 'B', 'A', 'C', 'D', 'F', 'E', 'G', 'C', 'F', 'A', 'D'], 'entities': ['A']}\n",
      "{'tokens': ['B', 'C', 'D', 'E', 'G', 'C', 'F', 'A', 'D'], 'entities': ['A B', 'F A']}\n",
      "{'tokens': ['B', 'A', 'C', 'F', 'C', 'F', 'A', 'D'], 'entities': ['A B', 'D E G']}\n",
      "{'tokens': ['B', 'A', 'C', 'F', 'E', 'G', 'C', 'F', 'A', 'D'], 'entities': ['A B', 'D']}\n",
      "{'tokens': ['B', 'C', 'D', 'F', 'E', 'G', 'C', 'F', 'A', 'D'], 'entities': ['A B', 'A']}\n",
      "{'tokens': ['B', 'B', 'A', 'C', 'C', 'F', 'A', 'D'], 'entities': ['F A', 'D E G']}\n",
      "{'tokens': ['B', 'B', 'A', 'C', 'E', 'G', 'C', 'F', 'A', 'D'], 'entities': ['F A', 'D']}\n",
      "{'tokens': ['B', 'B', 'C', 'D', 'E', 'G', 'C', 'F', 'A', 'D'], 'entities': ['F A', 'A']}\n",
      "{'tokens': ['A', 'B', 'B', 'A', 'C', 'F', 'C', 'F', 'A'], 'entities': ['D E G', 'D']}\n",
      "{'tokens': ['B', 'B', 'A', 'C', 'F', 'C', 'F', 'A', 'D'], 'entities': ['D E G', 'A']}\n",
      "{'tokens': ['B', 'B', 'A', 'C', 'F', 'E', 'G', 'C', 'F', 'A', 'D'], 'entities': ['D', 'A']}\n",
      "{'tokens': ['B', 'C', 'C', 'F', 'A', 'D'], 'entities': ['A B', 'F A', 'D E G']}\n",
      "{'tokens': ['B', 'C', 'E', 'G', 'C', 'F', 'A', 'D'], 'entities': ['A B', 'F A', 'D']}\n",
      "{'tokens': ['B', 'C', 'D', 'E', 'G', 'C', 'F', 'D'], 'entities': ['A B', 'F A', 'A']}\n",
      "{'tokens': ['B', 'A', 'C', 'F', 'C', 'F', 'A'], 'entities': ['A B', 'D E G', 'D']}\n",
      "{'tokens': ['B', 'C', 'F', 'C', 'F', 'A', 'D'], 'entities': ['A B', 'D E G', 'A']}\n",
      "{'tokens': ['B', 'C', 'F', 'E', 'G', 'C', 'F', 'A', 'D'], 'entities': ['A B', 'D', 'A']}\n",
      "{'tokens': ['B', 'B', 'A', 'C', 'C', 'F', 'A'], 'entities': ['F A', 'D E G', 'D']}\n",
      "{'tokens': ['B', 'B', 'C', 'C', 'F', 'A', 'D'], 'entities': ['F A', 'D E G', 'A']}\n",
      "{'tokens': ['B', 'B', 'C', 'E', 'G', 'C', 'F', 'A', 'D'], 'entities': ['F A', 'D', 'A']}\n",
      "{'tokens': ['B', 'B', 'A', 'C', 'F', 'C', 'F', 'A'], 'entities': ['D E G', 'D', 'A']}\n",
      "{'tokens': ['B', 'C', 'C', 'F', 'A'], 'entities': ['A B', 'F A', 'D E G', 'D']}\n",
      "{'tokens': ['B', 'C', 'C', 'F', 'D'], 'entities': ['A B', 'F A', 'D E G', 'A']}\n",
      "{'tokens': ['B', 'C', 'E', 'G', 'C', 'F', 'D'], 'entities': ['A B', 'F A', 'D', 'A']}\n",
      "{'tokens': ['B', 'C', 'F', 'C', 'F', 'A'], 'entities': ['A B', 'D E G', 'D', 'A']}\n",
      "{'tokens': ['B', 'B', 'C', 'C', 'F', 'A'], 'entities': ['F A', 'D E G', 'D', 'A']}\n",
      "{'tokens': ['B', 'C', 'C', 'F'], 'entities': ['A B', 'F A', 'D E G', 'D', 'A']}\n"
     ]
    }
   ],
   "source": [
    "index = project_part1.InvertedIndex()\n",
    "index.index_documents(documents)\n",
    "query_splits = index.split_query(Q, DoE)\n",
    "\n",
    "print('Possible query splits:\\n')\n",
    "for split in query_splits:\n",
    "    print(query_splits[split])"
   ]
  },
  {
   "cell_type": "code",
   "execution_count": 81,
   "metadata": {},
   "outputs": [
    {
     "ename": "AttributeError",
     "evalue": "'str' object has no attribute 'text'",
     "output_type": "error",
     "traceback": [
      "\u001b[0;31m---------------------------------------------------------------------------\u001b[0m",
      "\u001b[0;31mAttributeError\u001b[0m                            Traceback (most recent call last)",
      "\u001b[0;32m<ipython-input-81-5df1c73ce608>\u001b[0m in \u001b[0;36m<module>\u001b[0;34m\u001b[0m\n\u001b[1;32m      1\u001b[0m \u001b[0mindex\u001b[0m \u001b[0;34m=\u001b[0m \u001b[0mproject_part1\u001b[0m\u001b[0;34m.\u001b[0m\u001b[0mInvertedIndex\u001b[0m\u001b[0;34m(\u001b[0m\u001b[0;34m)\u001b[0m\u001b[0;34m\u001b[0m\u001b[0;34m\u001b[0m\u001b[0m\n\u001b[1;32m      2\u001b[0m \u001b[0mindex\u001b[0m\u001b[0;34m.\u001b[0m\u001b[0mindex_documents\u001b[0m\u001b[0;34m(\u001b[0m\u001b[0mdocuments\u001b[0m\u001b[0;34m)\u001b[0m\u001b[0;34m\u001b[0m\u001b[0;34m\u001b[0m\u001b[0m\n\u001b[0;32m----> 3\u001b[0;31m \u001b[0mquery_splits\u001b[0m \u001b[0;34m=\u001b[0m \u001b[0mindex\u001b[0m\u001b[0;34m.\u001b[0m\u001b[0msplit_query\u001b[0m\u001b[0;34m(\u001b[0m\u001b[0mQ\u001b[0m\u001b[0;34m,\u001b[0m \u001b[0mDoE\u001b[0m\u001b[0;34m)\u001b[0m\u001b[0;34m\u001b[0m\u001b[0;34m\u001b[0m\u001b[0m\n\u001b[0m\u001b[1;32m      4\u001b[0m \u001b[0;32mfor\u001b[0m \u001b[0mi\u001b[0m \u001b[0;32min\u001b[0m \u001b[0mquery_splits\u001b[0m\u001b[0;34m:\u001b[0m\u001b[0;34m\u001b[0m\u001b[0;34m\u001b[0m\u001b[0m\n\u001b[1;32m      5\u001b[0m     \u001b[0mprint\u001b[0m\u001b[0;34m(\u001b[0m\u001b[0mi\u001b[0m\u001b[0;34m)\u001b[0m\u001b[0;34m\u001b[0m\u001b[0;34m\u001b[0m\u001b[0m\n",
      "\u001b[0;32m~/Desktop/6714 proj/Project_Part1/zhong_project_part1.py\u001b[0m in \u001b[0;36msplit_query\u001b[0;34m(self, Q, DoE)\u001b[0m\n\u001b[1;32m    104\u001b[0m         \u001b[0;32mfor\u001b[0m \u001b[0mtoken\u001b[0m \u001b[0;32min\u001b[0m \u001b[0mtokenlist\u001b[0m\u001b[0;34m:\u001b[0m\u001b[0;34m\u001b[0m\u001b[0;34m\u001b[0m\u001b[0m\n\u001b[1;32m    105\u001b[0m             \u001b[0;32mif\u001b[0m \u001b[0;34m(\u001b[0m\u001b[0mtoken\u001b[0m \u001b[0;32min\u001b[0m \u001b[0mDoE\u001b[0m\u001b[0;34m)\u001b[0m \u001b[0;32mand\u001b[0m \u001b[0;34m(\u001b[0m\u001b[0mtoken\u001b[0m \u001b[0;32mnot\u001b[0m \u001b[0;32min\u001b[0m \u001b[0mentitylist\u001b[0m\u001b[0;34m)\u001b[0m\u001b[0;34m:\u001b[0m\u001b[0;34m\u001b[0m\u001b[0;34m\u001b[0m\u001b[0m\n\u001b[0;32m--> 106\u001b[0;31m                 \u001b[0mentitylist\u001b[0m\u001b[0;34m.\u001b[0m\u001b[0mappend\u001b[0m\u001b[0;34m(\u001b[0m\u001b[0mtoken\u001b[0m\u001b[0;34m.\u001b[0m\u001b[0mtext\u001b[0m\u001b[0;34m)\u001b[0m \u001b[0;31m#this is the single-word entity\u001b[0m\u001b[0;34m\u001b[0m\u001b[0;34m\u001b[0m\u001b[0m\n\u001b[0m\u001b[1;32m    107\u001b[0m \u001b[0;34m\u001b[0m\u001b[0m\n\u001b[1;32m    108\u001b[0m         \u001b[0mquery_splits\u001b[0m\u001b[0;34m.\u001b[0m\u001b[0mappend\u001b[0m\u001b[0;34m(\u001b[0m\u001b[0;34m{\u001b[0m\u001b[0;34m'tokens'\u001b[0m\u001b[0;34m:\u001b[0m \u001b[0mtokenlist\u001b[0m\u001b[0;34m,\u001b[0m \u001b[0;34m'entities'\u001b[0m\u001b[0;34m:\u001b[0m \u001b[0;34m[\u001b[0m\u001b[0;34m]\u001b[0m\u001b[0;34m}\u001b[0m\u001b[0;34m)\u001b[0m\u001b[0;34m\u001b[0m\u001b[0;34m\u001b[0m\u001b[0m\n",
      "\u001b[0;31mAttributeError\u001b[0m: 'str' object has no attribute 'text'"
     ]
    }
   ],
   "source": [
    "index = project_part1.InvertedIndex()\n",
    "index.index_documents(documents)\n",
    "query_splits = index.split_query(Q, DoE)\n",
    "for i in query_splits:\n",
    "    print(i)"
   ]
  },
  {
   "cell_type": "code",
   "execution_count": 100,
   "metadata": {},
   "outputs": [],
   "source": [
    "documents = {1:'President Trump was on his way to new New York in New York City.',\n",
    "             2:'New York Times mentioned an interesting story about Trump.',\n",
    "             3:'I think it would be great if I can travel to New York this summer to see Trump.'}"
   ]
  },
  {
   "cell_type": "code",
   "execution_count": 106,
   "metadata": {},
   "outputs": [],
   "source": [
    "documents = {}\n",
    "for i in range(5):\n",
    "    documents[i] = contents_dict[i]\n",
    "    \n",
    "index = project_part1.InvertedIndex()\n",
    "index.index_documents(documents)"
   ]
  },
  {
   "cell_type": "code",
   "execution_count": 107,
   "metadata": {},
   "outputs": [
    {
     "data": {
      "text/plain": [
       "defaultdict(dict,\n",
       "            {'\\ufeffThe': {0: 1.0},\n",
       "             'Project': {0: 1.0},\n",
       "             'Gutenberg': {0: 1.5265890341390445},\n",
       "             'EBook': {0: 1.5265890341390445},\n",
       "             'Pride': {0: 1.5265890341390445},\n",
       "             'Prejudice': {0: 1.5265890341390445},\n",
       "             'Jane': {0: 1.7412763113750154},\n",
       "             'Austen': {0: 1.7412763113750154},\n",
       "             'eBook': {0: 1.5265890341390445},\n",
       "             'use': {0: 1.5265890341390445, 1: 1.0},\n",
       "             'cost': {0: 1.0},\n",
       "             'restrictions': {0: 1.0},\n",
       "             'whatsoever': {0: 1.0},\n",
       "             'copy': {0: 1.0},\n",
       "             'away': {0: 1.0},\n",
       "             'terms': {0: 1.0},\n",
       "             'License': {0: 1.0},\n",
       "             'included': {0: 1.0},\n",
       "             'online': {0: 1.0},\n",
       "             'www.gutenberg.org': {0: 1.0},\n",
       "             'Title': {0: 1.0},\n",
       "             'Author': {0: 1.0},\n",
       "             'Posting': {0: 1.0},\n",
       "             'Date': {0: 1.5265890341390445},\n",
       "             'August': {0: 1.0},\n",
       "             '26': {0: 1.0},\n",
       "             '2008': {0: 1.0},\n",
       "             'Release': {0: 1.0},\n",
       "             'June': {0: 1.0},\n",
       "             '1998': {0: 1.0},\n",
       "             'Updated': {0: 1.0},\n",
       "             'March': {0: 1.0},\n",
       "             '10': {0: 1.0},\n",
       "             '2018': {0: 1.0},\n",
       "             'Language': {0: 1.0},\n",
       "             'Character': {0: 1.0},\n",
       "             'set': {0: 1.0},\n",
       "             'encoding': {0: 1.0},\n",
       "             'UTF-8': {0: 1.0},\n",
       "             'START': {0: 1.0},\n",
       "             'PROJECT': {0: 1.0},\n",
       "             'GUTENBERG': {0: 1.0},\n",
       "             'EBOOK': {0: 1.0},\n",
       "             'PRIDE': {0: 1.5265890341390445},\n",
       "             'PREJUDICE': {0: 1.5265890341390445},\n",
       "             'Produced': {0: 1.0},\n",
       "             'Anonymous': {0: 1.0},\n",
       "             'Volunteers': {0: 1.0},\n",
       "             'Chapter': {0: 1.0, 1: 1.0, 3: 1.0},\n",
       "             '1': {0: 1.0},\n",
       "             'truth': {0: 1.5265890341390445},\n",
       "             'universally': {0: 1.0},\n",
       "             'acknowledged': {0: 1.0},\n",
       "             'single': {0: 1.7412763113750154},\n",
       "             'man': {0: 1.869741686191944, 2: 1.0, 4: 1.7412763113750154},\n",
       "             'possession': {0: 1.5265890341390445},\n",
       "             'good': {0: 1.0,\n",
       "              1: 1.5265890341390445,\n",
       "              3: 1.5265890341390445,\n",
       "              4: 1.0},\n",
       "             'fortune': {0: 1.7412763113750154},\n",
       "             'want': {0: 1.7412763113750154},\n",
       "             'wife': {0: 1.7412763113750154,\n",
       "              1: 1.5265890341390445,\n",
       "              2: 1.0,\n",
       "              3: 1.0},\n",
       "             'little': {0: 1.0,\n",
       "              1: 1.5265890341390445,\n",
       "              2: 1.5265890341390445,\n",
       "              4: 1.0},\n",
       "             'known': {0: 1.0, 2: 1.0},\n",
       "             'feelings': {0: 1.0},\n",
       "             'views': {0: 1.0},\n",
       "             'entering': {0: 1.0},\n",
       "             'neighbourhood': {0: 1.0, 1: 1.5265890341390445},\n",
       "             'fixed': {0: 1.0},\n",
       "             'minds': {0: 1.0},\n",
       "             'surrounding': {0: 1.0},\n",
       "             'families': {0: 1.0},\n",
       "             'considered': {0: 1.0},\n",
       "             'rightful': {0: 1.0},\n",
       "             'property': {0: 1.0},\n",
       "             'daughters': {0: 1.0,\n",
       "              1: 1.7412763113750154,\n",
       "              2: 1.0,\n",
       "              3: 1.5265890341390445},\n",
       "             'dear': {0: 1.959134838920824,\n",
       "              1: 1.7412763113750154,\n",
       "              2: 1.0,\n",
       "              3: 1.0},\n",
       "             'Mr.': {0: 2.026672031199051,\n",
       "              1: 2.026672031199051,\n",
       "              2: 2.0804178182729878,\n",
       "              3: 2.124748262909036,\n",
       "              4: 2.124748262909036},\n",
       "             'said': {0: 1.0, 2: 1.959134838920824, 3: 1.959134838920824},\n",
       "             'lady': {0: 1.0, 2: 1.0, 4: 1.0},\n",
       "             'day': {0: 1.0, 2: 1.0, 3: 1.0, 4: 1.5265890341390445},\n",
       "             'heard': {0: 1.0, 1: 1.0, 3: 1.0},\n",
       "             'Netherfield': {0: 1.0},\n",
       "             'Park': {0: 1.0},\n",
       "             'let': {0: 1.0, 2: 1.0},\n",
       "             'replied': {0: 1.5265890341390445, 1: 1.0, 2: 1.0},\n",
       "             'returned': {0: 1.0, 3: 1.0},\n",
       "             'Mrs.': {0: 1.5265890341390445,\n",
       "              2: 2.026672031199051,\n",
       "              3: 1.7412763113750154,\n",
       "              4: 1.7412763113750154},\n",
       "             'told': {0: 1.0},\n",
       "             'answer': {0: 1.0, 4: 1.0},\n",
       "             'know': {0: 1.7412763113750154,\n",
       "              1: 1.5265890341390445,\n",
       "              2: 1.869741686191944,\n",
       "              3: 1.0},\n",
       "             'taken': {0: 1.5265890341390445},\n",
       "             'cried': {0: 1.0, 2: 1.7412763113750154},\n",
       "             'impatiently': {0: 1.0},\n",
       "             'tell': {0: 1.0, 2: 1.0, 3: 1.0},\n",
       "             'objection': {0: 1.0},\n",
       "             'hearing': {0: 1.0, 4: 1.0},\n",
       "             'invitation': {0: 1.0, 3: 1.0, 4: 1.0},\n",
       "             'says': {0: 1.0},\n",
       "             'young': {0: 1.0, 1: 1.0, 2: 1.0, 3: 1.5265890341390445, 4: 1.0},\n",
       "             'large': {0: 1.5265890341390445, 3: 1.0, 4: 1.5265890341390445},\n",
       "             'north': {0: 1.0},\n",
       "             'came': {0: 1.0},\n",
       "             'chaise': {0: 1.0},\n",
       "             'place': {0: 1.0, 4: 1.0},\n",
       "             'delighted': {0: 1.0, 3: 1.0},\n",
       "             'agreed': {0: 1.0},\n",
       "             'immediately': {0: 1.0},\n",
       "             'servants': {0: 1.0},\n",
       "             'house': {0: 1.0},\n",
       "             'end': {0: 1.0, 2: 1.0},\n",
       "             'week': {0: 1.0},\n",
       "             'married': {0: 1.0, 1: 1.0, 3: 1.0},\n",
       "             'Oh': {0: 1.0, 3: 1.0},\n",
       "             'Single': {0: 1.0},\n",
       "             'sure': {0: 1.0, 1: 1.0, 3: 1.0},\n",
       "             'thousand': {0: 1.0, 1: 1.0, 4: 1.0},\n",
       "             'year': {0: 1.0, 1: 1.0, 4: 1.0},\n",
       "             'fine': {0: 1.0, 4: 1.7412763113750154},\n",
       "             'thing': {0: 1.0, 1: 1.0, 2: 1.0},\n",
       "             'girls': {0: 1.5265890341390445,\n",
       "              1: 1.5265890341390445,\n",
       "              2: 1.0,\n",
       "              3: 1.5265890341390445,\n",
       "              4: 1.0},\n",
       "             'affect': {0: 1.0},\n",
       "             'tiresome': {0: 1.0},\n",
       "             'thinking': {0: 1.0, 1: 1.0},\n",
       "             'marrying': {0: 1.0, 1: 1.0},\n",
       "             'design': {0: 1.0},\n",
       "             'settling': {0: 1.0},\n",
       "             'Design': {0: 1.0},\n",
       "             'Nonsense': {0: 1.0, 2: 1.0},\n",
       "             'talk': {0: 1.0},\n",
       "             'likely': {0: 1.0},\n",
       "             'fall': {0: 1.0},\n",
       "             'love': {0: 1.0, 3: 1.5265890341390445},\n",
       "             'visit': {0: 1.0,\n",
       "              1: 2.026672031199051,\n",
       "              2: 1.5265890341390445,\n",
       "              3: 1.5265890341390445},\n",
       "             'soon': {0: 1.0, 3: 1.0, 4: 1.959134838920824},\n",
       "             'comes': {0: 1.0, 1: 1.0},\n",
       "             'occasion': {0: 1.0},\n",
       "             'send': {0: 1.0, 1: 1.0},\n",
       "             'better': {0: 1.0, 1: 1.0},\n",
       "             'handsome': {0: 1.0, 1: 1.0, 3: 1.0, 4: 1.0},\n",
       "             'like': {0: 1.0, 1: 1.0, 2: 1.0},\n",
       "             'best': {0: 1.0},\n",
       "             'party': {0: 1.0, 3: 1.0, 4: 1.7412763113750154},\n",
       "             'flatter': {0: 1.0},\n",
       "             'certainly': {0: 1.0, 2: 1.5265890341390445},\n",
       "             'share': {1: 1.0},\n",
       "             'beauty': {1: 1.7412763113750154, 3: 1.0},\n",
       "             'pretend': {1: 1.0},\n",
       "             'extraordinary': {1: 1.0},\n",
       "             'woman': {1: 1.7412763113750154, 2: 1.0},\n",
       "             'grown': {1: 1.0},\n",
       "             'ought': {1: 1.0, 4: 1.0},\n",
       "             'cases': {1: 1.0},\n",
       "             'think': {1: 1.5265890341390445, 2: 1.0},\n",
       "             'engage': {1: 1.0},\n",
       "             'assure': {1: 1.5265890341390445},\n",
       "             'consider': {1: 1.0, 2: 1.0},\n",
       "             'establishment': {1: 1.0},\n",
       "             'Sir': {1: 1.0, 3: 1.0},\n",
       "             'Lady': {1: 1.0, 3: 1.0, 4: 1.0},\n",
       "             'Lucas': {1: 1.0, 3: 1.0, 4: 1.0},\n",
       "             'determined': {1: 1.0},\n",
       "             'merely': {1: 1.0, 4: 1.0},\n",
       "             'account': {1: 1.0},\n",
       "             'general': {1: 1.0, 4: 1.0},\n",
       "             'newcomers': {1: 1.0},\n",
       "             'impossible': {1: 1.0, 2: 1.5265890341390445},\n",
       "             'scrupulous': {1: 1.0},\n",
       "             'surely': {1: 1.0},\n",
       "             'dare': {1: 1.0, 3: 1.0},\n",
       "             'glad': {1: 1.0, 2: 1.0},\n",
       "             'lines': {1: 1.0},\n",
       "             'hearty': {1: 1.0},\n",
       "             'consent': {1: 1.0},\n",
       "             'whichever': {1: 1.0},\n",
       "             'chooses': {1: 1.0},\n",
       "             'throw': {1: 1.0},\n",
       "             'word': {1: 1.0, 3: 1.0},\n",
       "             'desire': {1: 1.0},\n",
       "             'bit': {1: 1.0},\n",
       "             'half': {1: 1.0, 4: 1.0},\n",
       "             'humoured': {1: 1.0},\n",
       "             'giving': {1: 1.0, 4: 1.0},\n",
       "             'preference': {1: 1.0},\n",
       "             'recommend': {1: 1.0},\n",
       "             'silly': {1: 1.0},\n",
       "             'ignorant': {1: 1.0},\n",
       "             'quickness': {1: 1.0},\n",
       "             'sisters': {1: 1.0, 4: 1.7412763113750154},\n",
       "             'abuse': {1: 1.0},\n",
       "             'children': {1: 1.0},\n",
       "             'way': {1: 1.0, 2: 1.0},\n",
       "             'delight': {1: 1.0},\n",
       "             'vexing': {1: 1.0},\n",
       "             'compassion': {1: 1.0, 2: 1.0},\n",
       "             'poor': {1: 1.0},\n",
       "             'nerves': {1: 1.5265890341390445, 2: 1.0},\n",
       "             'mistake': {1: 1.0},\n",
       "             'high': {1: 1.0},\n",
       "             'respect': {1: 1.0},\n",
       "             'old': {1: 1.0},\n",
       "             'friends': {1: 1.0},\n",
       "             'mention': {1: 1.0},\n",
       "             'consideration': {1: 1.0},\n",
       "             'years': {1: 1.5265890341390445},\n",
       "             'Ah': {1: 1.0},\n",
       "             'suffer': {1: 1.0},\n",
       "             'hope': {1: 1.0, 2: 1.0},\n",
       "             'live': {1: 1.0},\n",
       "             'men': {1: 1.0},\n",
       "             'come': {1: 1.5265890341390445, 2: 1.0, 4: 1.0},\n",
       "             'odd': {1: 1.0},\n",
       "             'mixture': {1: 1.0},\n",
       "             'quick': {1: 1.0},\n",
       "             'parts': {1: 1.0},\n",
       "             'sarcastic': {1: 1.0},\n",
       "             'humour': {1: 1.0},\n",
       "             'reserve': {1: 1.0},\n",
       "             'caprice': {1: 1.0},\n",
       "             'experience': {1: 1.0},\n",
       "             'insufficient': {1: 1.0},\n",
       "             'understand': {1: 1.0},\n",
       "             'character': {1: 1.0, 4: 1.0},\n",
       "             'mind': {1: 1.0},\n",
       "             'difficult': {1: 1.0},\n",
       "             'develop': {1: 1.0},\n",
       "             'mean': {1: 1.0},\n",
       "             'understanding': {1: 1.0},\n",
       "             'information': {1: 1.0},\n",
       "             'uncertain': {1: 1.0},\n",
       "             'temper': {1: 1.0},\n",
       "             'discontented': {1: 1.0},\n",
       "             'fancied': {1: 1.0},\n",
       "             'nervous': {1: 1.0},\n",
       "             'business': {1: 1.0, 4: 1.0},\n",
       "             'life': {1: 1.0, 3: 1.0},\n",
       "             'solace': {1: 1.0},\n",
       "             'visiting': {1: 1.0},\n",
       "             'news': {1: 1.0},\n",
       "             '2': {1: 1.0},\n",
       "             'earliest': {1: 1.0},\n",
       "             'waited': {1: 1.0},\n",
       "             'intended': {1: 1.0},\n",
       "             'assuring': {1: 1.0},\n",
       "             'till': {1: 1.0, 2: 1.0, 3: 1.0, 4: 1.0},\n",
       "             'evening': {1: 1.0, 3: 1.0, 4: 1.5265890341390445},\n",
       "             'paid': {1: 1.0, 2: 1.0},\n",
       "             'knowledge': {2: 1.0},\n",
       "             'disclosed': {2: 1.0},\n",
       "             'following': {2: 1.0, 4: 1.0},\n",
       "             'manner': {2: 1.0},\n",
       "             'Observing': {2: 1.0},\n",
       "             'daughter': {2: 1.0},\n",
       "             'employed': {2: 1.0},\n",
       "             'trimming': {2: 1.0},\n",
       "             'hat': {2: 1.0},\n",
       "             'suddenly': {2: 1.0},\n",
       "             'addressed': {2: 1.0},\n",
       "             'likes': {2: 1.0},\n",
       "             'mother': {2: 1.5265890341390445},\n",
       "             'resentfully': {2: 1.0},\n",
       "             'forget': {2: 1.0},\n",
       "             'mamma': {2: 1.0},\n",
       "             'shall': {2: 1.0, 3: 1.0},\n",
       "             'meet': {2: 1.0},\n",
       "             'assemblies': {2: 1.0},\n",
       "             'promised': {2: 1.0},\n",
       "             'introduce': {2: 1.7412763113750154},\n",
       "             'believe': {2: 1.0},\n",
       "             'nieces': {2: 1.0},\n",
       "             'selfish': {2: 1.0},\n",
       "             'hypocritical': {2: 1.0},\n",
       "             'opinion': {2: 1.0},\n",
       "             'find': {2: 1.0},\n",
       "             'depend': {2: 1.0},\n",
       "             'serving': {2: 1.0},\n",
       "             'deigned': {2: 1.0},\n",
       "             'reply': {2: 1.0},\n",
       "             'unable': {2: 1.0, 4: 1.0},\n",
       "             'contain': {2: 1.0},\n",
       "             'began': {2: 1.0, 3: 1.0, 4: 1.0},\n",
       "             'scolding': {2: 1.0},\n",
       "             'coughing': {2: 1.0},\n",
       "             'Heaven': {2: 1.0},\n",
       "             'sake': {2: 1.0},\n",
       "             'tear': {2: 1.0},\n",
       "             'pieces': {2: 1.0},\n",
       "             'discretion': {2: 1.0},\n",
       "             'coughs': {2: 1.0},\n",
       "             'father': {2: 1.5265890341390445, 3: 1.5265890341390445},\n",
       "             'times': {2: 1.0},\n",
       "             'ill': {2: 1.0},\n",
       "             'cough': {2: 1.0, 3: 1.0},\n",
       "             'amusement': {2: 1.0},\n",
       "             'fretfully': {2: 1.0},\n",
       "             'ball': {2: 1.0, 3: 1.0, 4: 1.7412763113750154},\n",
       "             'morrow': {2: 1.0},\n",
       "             'fortnight': {2: 1.7412763113750154},\n",
       "             'advantage': {2: 1.0, 3: 1.0},\n",
       "             'friend': {2: 1.0, 4: 1.7412763113750154},\n",
       "             'her_.': {2: 1.0},\n",
       "             'Impossible': {2: 1.0},\n",
       "             'acquainted': {2: 1.0, 4: 1.0},\n",
       "             'teasing': {2: 1.0},\n",
       "             'honour': {2: 1.0, 4: 1.0},\n",
       "             'circumspection': {2: 1.0},\n",
       "             'acquaintance': {2: 1.5265890341390445, 3: 1.0},\n",
       "             'venture': {2: 1.0},\n",
       "             'somebody': {2: 1.0},\n",
       "             'neices': {2: 1.0},\n",
       "             'stand': {2: 1.0},\n",
       "             'chance': {2: 1.0},\n",
       "             'act': {2: 1.0},\n",
       "             'kindness': {2: 1.0, 3: 1.0},\n",
       "             'decline': {2: 1.0},\n",
       "             'office': {2: 1.0},\n",
       "             'stared': {2: 1.0},\n",
       "             'nonsense': {2: 1.5265890341390445},\n",
       "             'meaning': {2: 1.0},\n",
       "             'emphatic': {2: 1.0},\n",
       "             'exclamation': {2: 1.0},\n",
       "             'forms': {2: 1.0},\n",
       "             'introduction': {2: 1.0},\n",
       "             'stress': {2: 1.0},\n",
       "             'laid': {2: 1.0},\n",
       "             'agree': {2: 1.0},\n",
       "             'there_.': {2: 1.0},\n",
       "             'deep': {2: 1.0},\n",
       "             'reflection': {2: 1.0},\n",
       "             'read': {2: 1.0},\n",
       "             'great': {2: 1.0, 4: 1.0},\n",
       "             'books': {2: 1.0},\n",
       "             'extracts': {2: 1.0},\n",
       "             'wished': {2: 1.0, 3: 1.0},\n",
       "             'sensible': {2: 1.0},\n",
       "             'knew': {2: 1.0, 3: 1.0},\n",
       "             'adjusting': {2: 1.0},\n",
       "             'ideas': {2: 1.0},\n",
       "             'continued': {2: 1.0},\n",
       "             'return': {2: 1.0, 3: 1.0},\n",
       "             'sick': {2: 1.0},\n",
       "             'sorry': {2: 1.0},\n",
       "             'hear': {2: 1.0},\n",
       "             'morning': {2: 1.0, 3: 1.0},\n",
       "             'called': {2: 1.0},\n",
       "             'unlucky': {2: 1.0},\n",
       "             'actually': {2: 1.0},\n",
       "             'escape': {2: 1.0},\n",
       "             'astonishment': {2: 1.0},\n",
       "             'ladies': {2: 1.0, 3: 1.5265890341390445, 4: 1.7412763113750154},\n",
       "             'surpassing': {3: 1.0},\n",
       "             'rest': {3: 1.5265890341390445, 4: 1.0},\n",
       "             'tumult': {3: 1.0},\n",
       "             'joy': {3: 1.0},\n",
       "             'declare': {3: 1.0},\n",
       "             'expected': {3: 1.0},\n",
       "             'persuade': {3: 1.0},\n",
       "             'loved': {3: 1.0},\n",
       "             'neglect': {3: 1.0},\n",
       "             'pleased': {3: 1.0, 4: 1.0},\n",
       "             'joke': {3: 1.0},\n",
       "             'gone': {3: 1.0, 4: 1.0},\n",
       "             'choose': {3: 1.0},\n",
       "             'spoke': {3: 1.0},\n",
       "             'left': {3: 1.0},\n",
       "             'room': {3: 1.0, 4: 1.869741686191944},\n",
       "             'fatigued': {3: 1.0},\n",
       "             'raptures': {3: 1.0},\n",
       "             'excellent': {3: 1.0},\n",
       "             'door': {3: 1.0},\n",
       "             'shut': {3: 1.0},\n",
       "             'amends': {3: 1.0},\n",
       "             'matter': {3: 1.0},\n",
       "             'time': {3: 1.0},\n",
       "             'pleasant': {3: 1.0, 4: 1.0},\n",
       "             'making': {3: 1.0},\n",
       "             'new': {3: 1.0},\n",
       "             'acquaintances': {3: 1.0},\n",
       "             'sakes': {3: 1.0},\n",
       "             'youngest': {3: 1.5265890341390445},\n",
       "             'dance': {3: 1.0, 4: 1.0},\n",
       "             'stoutly': {3: 1.0},\n",
       "             'afraid': {3: 1.0},\n",
       "             'tallest': {3: 1.0},\n",
       "             'spent': {3: 1.0, 4: 1.0},\n",
       "             'conjecturing': {3: 1.0},\n",
       "             'determining': {3: 1.0},\n",
       "             'ask': {3: 1.5265890341390445},\n",
       "             'dinner': {3: 1.5265890341390445},\n",
       "             '3': {3: 1.0},\n",
       "             'assistance': {3: 1.0},\n",
       "             'subject': {3: 1.0},\n",
       "             'sufficient': {3: 1.0},\n",
       "             'draw': {3: 1.0},\n",
       "             'husband': {3: 1.5265890341390445, 4: 1.0},\n",
       "             'satisfactory': {3: 1.0},\n",
       "             'description': {3: 1.0},\n",
       "             'attacked': {3: 1.0},\n",
       "             'ways': {3: 1.0},\n",
       "             'barefaced': {3: 1.0},\n",
       "             'questions': {3: 1.0},\n",
       "             'ingenious': {3: 1.0},\n",
       "             'suppositions': {3: 1.0},\n",
       "             'distant': {3: 1.0},\n",
       "             'surmises': {3: 1.0},\n",
       "             'eluded': {3: 1.0},\n",
       "             'skill': {3: 1.0},\n",
       "             'obliged': {3: 1.0, 4: 1.0},\n",
       "             'accept': {3: 1.0, 4: 1.0},\n",
       "             'hand': {3: 1.0},\n",
       "             'intelligence': {3: 1.0},\n",
       "             'neighbour': {3: 1.0},\n",
       "             'report': {3: 1.0, 4: 1.5265890341390445},\n",
       "             'highly': {3: 1.0},\n",
       "             'favourable': {3: 1.0},\n",
       "             'wonderfully': {3: 1.0},\n",
       "             'extremely': {3: 1.0},\n",
       "             'agreeable': {3: 1.0},\n",
       "             'crown': {3: 1.0},\n",
       "             'meant': {3: 1.0},\n",
       "             'assembly': {3: 1.0, 4: 1.5265890341390445},\n",
       "             'delightful': {3: 1.0},\n",
       "             'fond': {3: 1.0},\n",
       "             'dancing': {3: 1.0},\n",
       "             'certain': {3: 1.0},\n",
       "             'step': {3: 1.0},\n",
       "             'falling': {3: 1.0},\n",
       "             'lively': {3: 1.0, 4: 1.0},\n",
       "             'hopes': {3: 1.5265890341390445},\n",
       "             'heart': {3: 1.0},\n",
       "             'entertained': {3: 1.5265890341390445},\n",
       "             'happily': {3: 1.0},\n",
       "             'settled': {3: 1.0, 4: 1.0},\n",
       "             'equally': {3: 1.0},\n",
       "             'wish': {3: 1.0},\n",
       "             'days': {3: 1.0},\n",
       "             'sat': {3: 1.0},\n",
       "             'minutes': {3: 1.0, 4: 1.0},\n",
       "             'library': {3: 1.0},\n",
       "             'admitted': {3: 1.0},\n",
       "             'sight': {3: 1.0},\n",
       "             'saw': {3: 1.0},\n",
       "             'somewhat': {3: 1.0},\n",
       "             'fortunate': {3: 1.0},\n",
       "             'ascertaining': {3: 1.0},\n",
       "             'upper': {3: 1.0},\n",
       "             'window': {3: 1.0},\n",
       "             'wore': {3: 1.0},\n",
       "             'blue': {3: 1.0},\n",
       "             'coat': {3: 1.0},\n",
       "             'rode': {3: 1.0},\n",
       "             'black': {3: 1.0},\n",
       "             'horse': {3: 1.0},\n",
       "             'dispatched': {4: 1.0},\n",
       "             'planned': {4: 1.0},\n",
       "             'courses': {4: 1.0},\n",
       "             'credit': {4: 1.0},\n",
       "             'housekeeping': {4: 1.0},\n",
       "             'arrived': {4: 1.0},\n",
       "             'deferred': {4: 1.0},\n",
       "             'town': {4: 1.5265890341390445},\n",
       "             'consequently': {4: 1.0},\n",
       "             'etc': {4: 1.0},\n",
       "             'disconcerted': {4: 1.0},\n",
       "             'imagine': {4: 1.0},\n",
       "             'arrival': {4: 1.0},\n",
       "             'fear': {4: 1.0},\n",
       "             'flying': {4: 1.0},\n",
       "             'quieted': {4: 1.0},\n",
       "             'fears': {4: 1.0},\n",
       "             'starting': {4: 1.0},\n",
       "             'idea': {4: 1.0},\n",
       "             'followed': {4: 1.0},\n",
       "             'bring': {4: 1.0},\n",
       "             'gentlemen': {4: 1.5265890341390445},\n",
       "             'grieved': {4: 1.0},\n",
       "             'number': {4: 1.0},\n",
       "             'comforted': {4: 1.0},\n",
       "             'instead': {4: 1.0},\n",
       "             'brought': {4: 1.0},\n",
       "             'cousin': {4: 1.0},\n",
       "             'entered': {4: 1.0},\n",
       "             'consisted': {4: 1.0},\n",
       "             'altogether': {4: 1.0},\n",
       "             'Mr': {4: 1.0},\n",
       "             'eldest': {4: 1.0},\n",
       "             'looking': {4: 1.0},\n",
       "             'gentlemanlike': {4: 1.0},\n",
       "             'countenance': {4: 1.5265890341390445},\n",
       "             'easy': {4: 1.0},\n",
       "             'unaffected': {4: 1.0},\n",
       "             'manners': {4: 1.5265890341390445},\n",
       "             'women': {4: 1.0},\n",
       "             'air': {4: 1.0},\n",
       "             'decided': {4: 1.5265890341390445},\n",
       "             'fashion': {4: 1.0},\n",
       "             'brother': {4: 1.0},\n",
       "             'law': {4: 1.0},\n",
       "             'looked': {4: 1.5265890341390445},\n",
       "             'gentleman': {4: 1.0},\n",
       "             'drew': {4: 1.0},\n",
       "             'attention': {4: 1.0},\n",
       "             'tall': {4: 1.0},\n",
       "             'person': {4: 1.0},\n",
       "             'features': {4: 1.0},\n",
       "             'noble': {4: 1.0},\n",
       "             'mien': {4: 1.0},\n",
       "             'circulation': {4: 1.0},\n",
       "             'entrance': {4: 1.0},\n",
       "             'having': {4: 1.5265890341390445},\n",
       "             'pronounced': {4: 1.0},\n",
       "             'figure': {4: 1.0},\n",
       "             'declared': {4: 1.0},\n",
       "             'handsomer': {4: 1.0},\n",
       "             'admiration': {4: 1.0},\n",
       "             'gave': {4: 1.0},\n",
       "             'disgust': {4: 1.0},\n",
       "             'turned': {4: 1.0},\n",
       "             'tide': {4: 1.0},\n",
       "             'popularity': {4: 1.0},\n",
       "             'discovered': {4: 1.0},\n",
       "             'proud': {4: 1.0},\n",
       "             'company': {4: 1.0},\n",
       "             'estate': {4: 1.0},\n",
       "             'save': {4: 1.0},\n",
       "             'forbidding': {4: 1.0},\n",
       "             'disagreeable': {4: 1.5265890341390445},\n",
       "             'unworthy': {4: 1.0},\n",
       "             'compared': {4: 1.0},\n",
       "             'principal': {4: 1.0},\n",
       "             'people': {4: 1.0},\n",
       "             'unreserved': {4: 1.0},\n",
       "             'danced': {4: 1.5265890341390445},\n",
       "             'angry': {4: 1.0},\n",
       "             'closed': {4: 1.0},\n",
       "             'early': {4: 1.0},\n",
       "             'talked': {4: 1.0},\n",
       "             'amiable': {4: 1.0},\n",
       "             'qualities': {4: 1.0},\n",
       "             'speak': {4: 1.0},\n",
       "             'contrast': {4: 1.0},\n",
       "             'Miss': {4: 1.0},\n",
       "             'declined': {4: 1.0},\n",
       "             'introduced': {4: 1.0},\n",
       "             'walking': {4: 1.0},\n",
       "             'speaking': {4: 1.0},\n",
       "             'occasionally': {4: 1.0},\n",
       "             'proudest': {4: 1.0},\n",
       "             'world': {4: 1.0},\n",
       "             'everybody': {4: 1.0},\n",
       "             'hoped': {4: 1.0},\n",
       "             'violent': {4: 1.0}})"
      ]
     },
     "execution_count": 107,
     "metadata": {},
     "output_type": "execute_result"
    }
   ],
   "source": [
    "index.tf_tokens"
   ]
  },
  {
   "cell_type": "code",
   "execution_count": 2,
   "metadata": {},
   "outputs": [],
   "source": [
    "import pickle\n",
    "\n",
    "with open('test_500docs.pickle', 'rb') as handle:\n",
    "    contents_dict = pickle.load(handle)"
   ]
  },
  {
   "cell_type": "code",
   "execution_count": 5,
   "metadata": {},
   "outputs": [
    {
     "name": "stdout",
     "output_type": "stream",
     "text": [
      "Counter({'Mr.': 6, 'dear': 5, 'man': 4, 'Bennet': 4, 'Jane': 3, 'Austen': 3, 'single': 3, 'fortune': 3, 'want': 3, 'wife': 3, 'know': 3, 'Project': 2, 'Gutenberg': 2, 'EBook': 2, 'Pride': 2, 'Prejudice': 2, 'eBook': 2, 'use': 2, 'Date': 2, 'PRIDE': 2, 'PREJUDICE': 2, 'truth': 2, 'possession': 2, 'Netherfield': 2, 'replied': 2, 'Mrs.': 2, 'Long': 2, 'taken': 2, 'large': 2, 'Bingley': 2, 'girls': 2, '\\ufeffThe': 1, 'cost': 1, 'restrictions': 1, 'whatsoever': 1, 'copy': 1, 'away': 1, 'terms': 1, 'License': 1, 'included': 1, 'online': 1, 'www.gutenberg.org': 1, 'Title': 1, 'Author': 1, 'Posting': 1, 'August': 1, '26': 1, '2008': 1, '1342': 1, 'Release': 1, 'June': 1, '1998': 1, 'Updated': 1, 'March': 1, '10': 1, '2018': 1, 'Language': 1, 'English': 1, 'Character': 1, 'set': 1, 'encoding': 1, 'UTF-8': 1, 'START': 1, 'PROJECT': 1, 'GUTENBERG': 1, 'EBOOK': 1, 'Produced': 1, 'Anonymous': 1, 'Volunteers': 1, 'Chapter': 1, '1': 1, 'universally': 1, 'acknowledged': 1, 'good': 1, 'little': 1, 'known': 1, 'feelings': 1, 'views': 1, 'entering': 1, 'neighbourhood': 1, 'fixed': 1, 'minds': 1, 'surrounding': 1, 'families': 1, 'considered': 1, 'rightful': 1, 'property': 1, 'daughters': 1, 'said': 1, 'lady': 1, 'day': 1, 'heard': 1, 'Park': 1, 'let': 1, 'returned': 1, 'told': 1, 'answer': 1, 'cried': 1, 'impatiently': 1, 'tell': 1, 'objection': 1, 'hearing': 1, 'invitation': 1, 'says': 1, 'young': 1, 'north': 1, 'England': 1, 'came': 1, 'Monday': 1, 'chaise': 1, 'place': 1, 'delighted': 1, 'agreed': 1, 'Morris': 1, 'immediately': 1, 'Michaelmas': 1, 'servants': 1, 'house': 1, 'end': 1, 'week': 1, 'married': 1, 'Oh': 1, 'Single': 1, 'sure': 1, 'thousand': 1, 'year': 1, 'fine': 1, 'thing': 1, 'affect': 1, 'tiresome': 1, 'thinking': 1, 'marrying': 1, 'design': 1, 'settling': 1, 'Design': 1, 'Nonsense': 1, 'talk': 1, 'likely': 1, 'fall': 1, 'love': 1, 'visit': 1, 'soon': 1, 'comes': 1, 'occasion': 1, 'send': 1, 'better': 1, 'handsome': 1, 'like': 1, 'best': 1, 'party': 1, 'flatter': 1, 'certainly': 1})\n",
      "\n",
      "Counter({'Bennet': 4, 'Jane Austen': 2, 'Long': 2, 'Bingley': 2, 'one': 2, 'Project': 1, 'Gutenberg License': 1, 'Title: Pride and Prejudice Author': 1, 'August 26, 2008': 1, '1342': 1, 'Release Date': 1, 'June, 1998': 1, 'March 10, 2018': 1, 'English': 1, 'Anonymous Volunteers': 1, 'Jane Austen Chapter': 1, 'first': 1, 'some one': 1, 'one day': 1, 'Netherfield Park': 1, 'Netherfield': 1, 'England': 1, 'Monday': 1, 'four': 1, 'Morris': 1, 'Michaelmas': 1, 'the end of next week': 1, 'four or five thousand': 1})\n",
      "\n",
      "Counter({'Bennet': 4, 'Long': 2, 'Bingley': 2, 'one': 2, 'Project': 1, '1342': 1, 'English': 1, 'first': 1, 'Netherfield': 1, 'England': 1, 'Monday': 1, 'four': 1, 'Morris': 1, 'Michaelmas': 1})\n",
      "Counter({'Mr.': 6, 'visit': 6, 'beauty': 3, 'woman': 3, 'daughters': 3, 'dear': 3, 'Bingley': 3, 'Lizzy': 3, 'Bennet': 3, 'think': 2, 'neighbourhood': 2, 'assure': 2, 'know': 2, 'girls': 2, 'good': 2, 'little': 2, 'half': 2, 'nerves': 2, 'years': 2, 'come': 2, 'wife': 2, 'share': 1, 'pretend': 1, 'extraordinary': 1, 'grown': 1, 'ought': 1, 'thinking': 1, 'cases': 1, 'comes': 1, 'engage': 1, 'consider': 1, 'establishment': 1, 'Sir': 1, 'William': 1, 'Lady': 1, 'Lucas': 1, 'determined': 1, 'merely': 1, 'account': 1, 'general': 1, 'newcomers': 1, 'impossible': 1, 'scrupulous': 1, 'surely': 1, 'dare': 1, 'glad': 1, 'send': 1, 'lines': 1, 'hearty': 1, 'consent': 1, 'marrying': 1, 'whichever': 1, 'chooses': 1, 'throw': 1, 'word': 1, 'desire': 1, 'thing': 1, 'bit': 1, 'better': 1, 'sure': 1, 'handsome': 1, 'Jane': 1, 'humoured': 1, 'Lydia': 1, 'giving': 1, 'preference': 1, 'recommend': 1, 'replied': 1, 'silly': 1, 'ignorant': 1, 'like': 1, 'quickness': 1, 'sisters': 1, 'abuse': 1, 'children': 1, 'way': 1, 'delight': 1, 'vexing': 1, 'compassion': 1, 'poor': 1, 'mistake': 1, 'high': 1, 'respect': 1, 'old': 1, 'friends': 1, 'heard': 1, 'mention': 1, 'consideration': 1, 'Ah': 1, 'suffer': 1, 'hope': 1, 'live': 1, 'young': 1, 'men': 1, 'thousand': 1, 'year': 1, 'use': 1, 'Depend': 1, 'odd': 1, 'mixture': 1, 'quick': 1, 'parts': 1, 'sarcastic': 1, 'humour': 1, 'reserve': 1, 'caprice': 1, 'experience': 1, 'insufficient': 1, 'understand': 1, 'character': 1, 'mind': 1, 'difficult': 1, 'develop': 1, 'mean': 1, 'understanding': 1, 'information': 1, 'uncertain': 1, 'temper': 1, 'discontented': 1, 'fancied': 1, 'nervous': 1, 'business': 1, 'life': 1, 'married': 1, 'solace': 1, 'visiting': 1, 'news': 1, 'Chapter': 1, '2': 1, 'earliest': 1, 'waited': 1, 'intended': 1, 'assuring': 1, 'till': 1, 'evening': 1, 'paid': 1})\n",
      "\n",
      "Counter({'Bingley': 3, 'Lizzy': 3, 'Bennet': 3, 'twenty': 2, 'five': 1, 'one': 1, 'William': 1, 'Lady Lucas': 1, 'half': 1, 'Jane': 1, 'Lydia': 1, 'these last twenty years': 1, 'four thousand a year': 1, 'Depend': 1, 'three': 1, 'twenty years': 1, 'Chapter 2': 1})\n",
      "\n",
      "Counter({'Bingley': 3, 'Lizzy': 3, 'Bennet': 3, 'twenty': 2, 'five': 1, 'one': 1, 'William': 1, 'half': 1, 'Jane': 1, 'Lydia': 1, 'Depend': 1, 'three': 1})\n",
      "Counter({'Mr.': 7, 'Mrs.': 6, 'Bingley': 5, 'said': 5, 'know': 4, 'Long': 4, 'Bennet': 4, 'introduce': 3, 'Kitty': 3, 'fortnight': 3, 'cried': 3, 'Mary': 3, 'Lizzy': 2, 'mother': 2, 'visit': 2, 'little': 2, 'father': 2, 'impossible': 2, 'acquaintance': 2, 'certainly': 2, 'nonsense': 2, 'knowledge': 1, 'disclosed': 1, 'following': 1, 'manner': 1, 'Observing': 1, 'second': 1, 'daughter': 1, 'employed': 1, 'trimming': 1, 'hat': 1, 'suddenly': 1, 'addressed': 1, 'hope': 1, 'like': 1, 'way': 1, 'likes': 1, 'resentfully': 1, 'forget': 1, 'mamma': 1, 'Elizabeth': 1, 'shall': 1, 'meet': 1, 'assemblies': 1, 'promised': 1, 'believe': 1, 'thing': 1, 'nieces': 1, 'selfish': 1, 'hypocritical': 1, 'woman': 1, 'opinion': 1, 'glad': 1, 'find': 1, 'depend': 1, 'serving': 1, 'deigned': 1, 'reply': 1, 'unable': 1, 'contain': 1, 'began': 1, 'scolding': 1, 'daughters': 1, 'coughing': 1, 'Heaven': 1, 'sake': 1, 'compassion': 1, 'nerves': 1, 'tear': 1, 'pieces': 1, 'discretion': 1, 'coughs': 1, 'times': 1, 'ill': 1, 'cough': 1, 'amusement': 1, 'replied': 1, 'fretfully': 1, 'ball': 1, 'morrow': 1, 'Aye': 1, 'come': 1, 'till': 1, 'day': 1, 'dear': 1, 'advantage': 1, 'friend': 1, 'her_.': 1, 'Impossible': 1, 'acquainted': 1, 'teasing': 1, 'honour': 1, 'circumspection': 1, 'man': 1, 'end': 1, 'venture': 1, 'somebody': 1, 'neices': 1, 'stand': 1, 'chance': 1, 'think': 1, 'act': 1, 'kindness': 1, 'decline': 1, 'office': 1, 'girls': 1, 'stared': 1, 'Nonsense': 1, 'meaning': 1, 'emphatic': 1, 'exclamation': 1, 'consider': 1, 'forms': 1, 'introduction': 1, 'stress': 1, 'laid': 1, 'agree': 1, 'there_.': 1, 'young': 1, 'lady': 1, 'deep': 1, 'reflection': 1, 'read': 1, 'great': 1, 'books': 1, 'extracts': 1, 'wished': 1, 'sensible': 1, 'knew': 1, 'adjusting': 1, 'ideas': 1, 'continued': 1, 'let': 1, 'return': 1, 'sick': 1, 'wife': 1, 'sorry': 1, 'hear': 1, 'tell': 1, 'known': 1, 'morning': 1, 'called': 1, 'unlucky': 1, 'actually': 1, 'paid': 1, 'escape': 1, 'astonishment': 1, 'ladies': 1})\n",
      "\n",
      "Counter({'Bingley': 5, 'Long': 4, 'Bennet': 4, 'Kitty': 3, 'Mary': 3, 'Lizzy': 2, 'second': 1, 'Elizabeth': 1, 'two': 1, 'Aye': 1, 'the day before': 1, 'this morning': 1})\n",
      "\n",
      "Counter({'Bingley': 5, 'Long': 4, 'Bennet': 4, 'Kitty': 3, 'Mary': 3, 'Lizzy': 2, 'second': 1, 'Elizabeth': 1, 'two': 1, 'Aye': 1})\n",
      "Counter({'Mr.': 8, 'Bennet': 7, 'said': 5, 'Bingley': 4, 'Mrs.': 3, 'rest': 2, 'good': 2, 'girls': 2, 'father': 2, 'Lydia': 2, 'love': 2, 'youngest': 2, 'visit': 2, 'ask': 2, 'dinner': 2, 'daughters': 2, 'husband': 2, 'young': 2, 'hopes': 2, 'entertained': 2, 'ladies': 2, 'wished': 1, 'surpassing': 1, 'tumult': 1, 'joy': 1, 'began': 1, 'declare': 1, 'expected': 1, 'dear': 1, 'knew': 1, 'persuade': 1, 'sure': 1, 'loved': 1, 'neglect': 1, 'acquaintance': 1, 'pleased': 1, 'joke': 1, 'gone': 1, 'morning': 1, 'word': 1, 'till': 1, 'Kitty': 1, 'cough': 1, 'choose': 1, 'spoke': 1, 'left': 1, 'room': 1, 'fatigued': 1, 'raptures': 1, 'wife': 1, 'excellent': 1, 'door': 1, 'shut': 1, 'know': 1, 'amends': 1, 'kindness': 1, 'matter': 1, 'time': 1, 'life': 1, 'pleasant': 1, 'tell': 1, 'making': 1, 'new': 1, 'acquaintances': 1, 'day': 1, 'sakes': 1, 'dare': 1, 'dance': 1, 'ball': 1, 'Oh': 1, 'stoutly': 1, 'afraid': 1, 'tallest': 1, 'evening': 1, 'spent': 1, 'conjecturing': 1, 'soon': 1, 'return': 1, 'determining': 1, 'Chapter': 1, '3': 1, 'assistance': 1, 'subject': 1, 'sufficient': 1, 'draw': 1, 'satisfactory': 1, 'description': 1, 'attacked': 1, 'ways': 1, 'barefaced': 1, 'questions': 1, 'ingenious': 1, 'suppositions': 1, 'distant': 1, 'surmises': 1, 'eluded': 1, 'skill': 1, 'obliged': 1, 'accept': 1, 'second': 1, 'hand': 1, 'intelligence': 1, 'neighbour': 1, 'Lady': 1, 'Lucas': 1, 'report': 1, 'highly': 1, 'favourable': 1, 'Sir': 1, 'William': 1, 'delighted': 1, 'wonderfully': 1, 'handsome': 1, 'extremely': 1, 'agreeable': 1, 'crown': 1, 'meant': 1, 'assembly': 1, 'large': 1, 'party': 1, 'delightful': 1, 'fond': 1, 'dancing': 1, 'certain': 1, 'step': 1, 'falling': 1, 'lively': 1, 'heart': 1, 'happily': 1, 'settled': 1, 'Netherfield': 1, 'equally': 1, 'married': 1, 'shall': 1, 'wish': 1, 'days': 1, 'returned': 1, 'sat': 1, 'minutes': 1, 'library': 1, 'admitted': 1, 'sight': 1, 'beauty': 1, 'heard': 1, 'saw': 1, 'somewhat': 1, 'fortunate': 1, 'advantage': 1, 'ascertaining': 1, 'upper': 1, 'window': 1, 'wore': 1, 'blue': 1, 'coat': 1, 'rode': 1, 'black': 1, 'horse': 1, 'invitation': 1})\n",
      "\n",
      "Counter({'Bennet': 7, 'Bingley': 4, 'Lydia': 2, 'first': 1, 'this morning': 1, 'Kitty': 1, 'every day': 1, 'Chapter 3': 1, 'five': 1, 'second': 1, 'Lady Lucas': 1, 'William': 1, 'Netherfield': 1, 'a few days': 1, 'about ten minutes': 1})\n",
      "\n",
      "Counter({'Bennet': 7, 'Bingley': 4, 'Lydia': 2, 'first': 1, 'Kitty': 1, 'five': 1, 'second': 1, 'William': 1, 'Netherfield': 1})\n",
      "Counter({'Mr.': 8, 'Bingley': 7, 'soon': 5, 'room': 4, 'Mrs.': 3, 'party': 3, 'ball': 3, 'ladies': 3, 'sisters': 3, 'man': 3, 'fine': 3, 'friend': 3, 'Bennet': 2, 'town': 2, 'day': 2, 'Netherfield': 2, 'London': 2, 'large': 2, 'report': 2, 'gentlemen': 2, 'assembly': 2, 'countenance': 2, 'manners': 2, 'decided': 2, 'Hurst': 2, 'looked': 2, 'Darcy': 2, 'having': 2, 'evening': 2, 'disagreeable': 2, 'danced': 2, 'dispatched': 1, 'planned': 1, 'courses': 1, 'credit': 1, 'housekeeping': 1, 'answer': 1, 'arrived': 1, 'deferred': 1, 'obliged': 1, 'following': 1, 'consequently': 1, 'unable': 1, 'accept': 1, 'honour': 1, 'invitation': 1, 'etc': 1, 'disconcerted': 1, 'imagine': 1, 'business': 1, 'arrival': 1, 'Hertfordshire': 1, 'began': 1, 'fear': 1, 'flying': 1, 'place': 1, 'settled': 1, 'ought': 1, 'Lady': 1, 'Lucas': 1, 'quieted': 1, 'fears': 1, 'little': 1, 'starting': 1, 'idea': 1, 'gone': 1, 'followed': 1, 'bring': 1, 'seven': 1, 'girls': 1, 'grieved': 1, 'number': 1, 'comforted': 1, 'hearing': 1, 'instead': 1, 'brought': 1, 'cousin': 1, 'entered': 1, 'consisted': 1, 'altogether': 1, 'Mr': 1, 'husband': 1, 'eldest': 1, 'young': 1, 'good': 1, 'looking': 1, 'gentlemanlike': 1, 'pleasant': 1, 'easy': 1, 'unaffected': 1, 'women': 1, 'air': 1, 'fashion': 1, 'brother': 1, 'law': 1, 'merely': 1, 'gentleman': 1, 'drew': 1, 'attention': 1, 'tall': 1, 'person': 1, 'handsome': 1, 'features': 1, 'noble': 1, 'mien': 1, 'general': 1, 'circulation': 1, 'minutes': 1, 'entrance': 1, 'thousand': 1, 'year': 1, 'pronounced': 1, 'figure': 1, 'declared': 1, 'handsomer': 1, 'great': 1, 'admiration': 1, 'half': 1, 'till': 1, 'gave': 1, 'disgust': 1, 'turned': 1, 'tide': 1, 'popularity': 1, 'discovered': 1, 'proud': 1, 'company': 1, 'pleased': 1, 'estate': 1, 'Derbyshire': 1, 'save': 1, 'forbidding': 1, 'unworthy': 1, 'compared': 1, 'acquainted': 1, 'principal': 1, 'people': 1, 'lively': 1, 'unreserved': 1, 'dance': 1, 'angry': 1, 'closed': 1, 'early': 1, 'talked': 1, 'giving': 1, 'amiable': 1, 'qualities': 1, 'speak': 1, 'contrast': 1, 'Miss': 1, 'declined': 1, 'introduced': 1, 'lady': 1, 'spent': 1, 'rest': 1, 'walking': 1, 'speaking': 1, 'occasionally': 1, 'character': 1, 'proudest': 1, 'world': 1, 'everybody': 1, 'hoped': 1, 'come': 1, 'violent': 1})\n",
      "\n",
      "Counter({'Bingley': 7, 'Bennet': 2, 'Netherfield': 2, 'London': 2, 'twelve': 2, 'Hurst': 2, 'Darcy': 2, 'the following day': 1, 'Hertfordshire': 1, 'one': 1, 'Lady Lucas': 1, 'seven': 1, 'the day': 1, 'only six': 1, 'five': 1, 'only five': 1, 'two': 1, 'five minutes': 1, 'ten thousand a year': 1, 'about half the evening': 1, 'Derbyshire': 1})\n",
      "\n",
      "Counter({'Bingley': 7, 'Bennet': 2, 'Netherfield': 2, 'London': 2, 'twelve': 2, 'Hurst': 2, 'Darcy': 2, 'Hertfordshire': 1, 'one': 1, 'seven': 1, 'five': 1, 'two': 1, 'Derbyshire': 1})\n"
     ]
    }
   ],
   "source": [
    "documents = {}\n",
    "for i in range(5):\n",
    "    documents[i] = contents_dict[i]\n",
    "index_z = project_part1.InvertedIndex()\n",
    "index_z.index_documents(documents)\n"
   ]
  },
  {
   "cell_type": "code",
   "execution_count": 6,
   "metadata": {},
   "outputs": [
    {
     "data": {
      "text/plain": [
       "{'Trump': {1: 1.5265890341390445}, 'Donald': {1: 1.5265890341390445}}"
      ]
     },
     "execution_count": 6,
     "metadata": {},
     "output_type": "execute_result"
    }
   ],
   "source": [
    "index_z.tf_tokens"
   ]
  },
  {
   "cell_type": "code",
   "execution_count": 8,
   "metadata": {},
   "outputs": [
    {
     "data": {
      "text/plain": [
       "{'Trump': {1: 1.0}, 'Donald Trump': {1: 1.6931471805599454}}"
      ]
     },
     "execution_count": 8,
     "metadata": {},
     "output_type": "execute_result"
    }
   ],
   "source": [
    "index_z.tf_entities"
   ]
  },
  {
   "cell_type": "code",
   "execution_count": 6,
   "metadata": {},
   "outputs": [
    {
     "data": {
      "text/plain": [
       "550"
      ]
     },
     "execution_count": 6,
     "metadata": {},
     "output_type": "execute_result"
    }
   ],
   "source": [
    "len(index_z.tf_tokens.keys())"
   ]
  },
  {
   "cell_type": "code",
   "execution_count": 116,
   "metadata": {},
   "outputs": [
    {
     "data": {
      "text/plain": [
       "550"
      ]
     },
     "execution_count": 116,
     "metadata": {},
     "output_type": "execute_result"
    }
   ],
   "source": [
    "len(index.tf_tokens.keys())"
   ]
  },
  {
   "cell_type": "code",
   "execution_count": 121,
   "metadata": {},
   "outputs": [
    {
     "name": "stdout",
     "output_type": "stream",
     "text": [
      "Bennet {0: 1.7412763113750154, 1: 1.5265890341390445, 2: 1.7412763113750154, 3: 2.026672031199051, 4: 1.0}\n",
      "Long {0: 1.0, 2: 1.7412763113750154}\n",
      "Bingley {0: 1.0, 1: 1.5265890341390445, 2: 1.869741686191944, 3: 1.7412763113750154, 4: 2.026672031199051}\n",
      "Lizzy {1: 1.5265890341390445, 2: 1.0}\n",
      "Kitty {2: 1.5265890341390445}\n",
      "Mary {2: 1.5265890341390445}\n",
      "Lydia {3: 1.0}\n",
      "London {4: 1.0}\n",
      "Hurst {4: 1.0}\n",
      "Darcy {4: 1.0}\n"
     ]
    }
   ],
   "source": [
    "for token in index_z.tf_tokens.keys():\n",
    "    if (token not in index.tf_tokens.keys()):\n",
    "        print(token, index_z.tf_tokens[token])"
   ]
  },
  {
   "cell_type": "code",
   "execution_count": 117,
   "metadata": {},
   "outputs": [
    {
     "data": {
      "text/plain": [
       "{'Jane Austen': {0: 1.6931471805599454},\n",
       " 'Project': {0: 1.0},\n",
       " 'Gutenberg License': {0: 1.0},\n",
       " 'Title: Pride and Prejudice Author': {0: 1.0},\n",
       " 'August 26, 2008': {0: 1.0},\n",
       " '1342': {0: 1.0},\n",
       " 'Release Date': {0: 1.0},\n",
       " 'June, 1998': {0: 1.0},\n",
       " 'March 10, 2018': {0: 1.0},\n",
       " 'English': {0: 1.0},\n",
       " 'Anonymous Volunteers': {0: 1.0},\n",
       " 'Jane Austen Chapter': {0: 1.0},\n",
       " 'first': {0: 1.0, 3: 1.0},\n",
       " 'some one': {0: 1.0},\n",
       " 'Bennet': {0: 2.386294361119891,\n",
       "  1: 2.09861228866811,\n",
       "  2: 2.386294361119891,\n",
       "  3: 2.9459101490553135,\n",
       "  4: 1.6931471805599454},\n",
       " 'one day': {0: 1.0},\n",
       " 'Netherfield Park': {0: 1.0},\n",
       " 'Long': {0: 1.6931471805599454, 2: 2.386294361119891},\n",
       " 'Netherfield': {0: 1.0, 3: 1.0, 4: 1.6931471805599454},\n",
       " 'England': {0: 1.0},\n",
       " 'Monday': {0: 1.0},\n",
       " 'four': {0: 1.0},\n",
       " 'Morris': {0: 1.0},\n",
       " 'Michaelmas': {0: 1.0},\n",
       " 'the end of next week': {0: 1.0},\n",
       " 'Bingley': {0: 1.6931471805599454,\n",
       "  1: 2.09861228866811,\n",
       "  2: 2.6094379124341005,\n",
       "  3: 2.386294361119891,\n",
       "  4: 2.9459101490553135},\n",
       " 'four or five thousand': {0: 1.0},\n",
       " 'one': {0: 1.6931471805599454, 1: 1.0, 4: 1.0},\n",
       " 'five': {1: 1.0, 3: 1.0, 4: 1.0},\n",
       " 'William': {1: 1.0, 3: 1.0},\n",
       " 'Lady Lucas': {1: 1.0, 3: 1.0, 4: 1.0},\n",
       " 'Lizzy': {1: 2.09861228866811, 2: 1.6931471805599454},\n",
       " 'half': {1: 1.0},\n",
       " 'Jane': {1: 1.0},\n",
       " 'Lydia': {1: 1.0, 3: 1.6931471805599454},\n",
       " 'these last twenty years': {1: 1.0},\n",
       " 'four thousand a year': {1: 1.0},\n",
       " 'twenty': {1: 1.6931471805599454},\n",
       " 'Depend': {1: 1.0},\n",
       " 'three': {1: 1.0},\n",
       " 'twenty years': {1: 1.0},\n",
       " 'Chapter 2': {1: 1.0},\n",
       " 'second': {2: 1.0, 3: 1.0},\n",
       " 'Elizabeth': {2: 1.0},\n",
       " 'two': {2: 1.0, 4: 1.0},\n",
       " 'Kitty': {2: 2.09861228866811, 3: 1.0},\n",
       " 'Aye': {2: 1.0},\n",
       " 'the day before': {2: 1.0},\n",
       " 'Mary': {2: 2.09861228866811},\n",
       " 'this morning': {2: 1.0, 3: 1.0},\n",
       " 'every day': {3: 1.0},\n",
       " 'Chapter 3': {3: 1.0},\n",
       " 'a few days': {3: 1.0},\n",
       " 'about ten minutes': {3: 1.0},\n",
       " 'the following day': {4: 1.0},\n",
       " 'Hertfordshire': {4: 1.0},\n",
       " 'London': {4: 1.6931471805599454},\n",
       " 'twelve': {4: 1.6931471805599454},\n",
       " 'seven': {4: 1.0},\n",
       " 'the day': {4: 1.0},\n",
       " 'only six': {4: 1.0},\n",
       " 'only five': {4: 1.0},\n",
       " 'Hurst': {4: 1.6931471805599454},\n",
       " 'Darcy': {4: 1.6931471805599454},\n",
       " 'five minutes': {4: 1.0},\n",
       " 'ten thousand a year': {4: 1.0},\n",
       " 'about half the evening': {4: 1.0},\n",
       " 'Derbyshire': {4: 1.0}}"
      ]
     },
     "execution_count": 117,
     "metadata": {},
     "output_type": "execute_result"
    }
   ],
   "source": [
    "index_z.tf_entities"
   ]
  },
  {
   "cell_type": "code",
   "execution_count": 119,
   "metadata": {},
   "outputs": [
    {
     "data": {
      "text/plain": [
       "True"
      ]
     },
     "execution_count": 119,
     "metadata": {},
     "output_type": "execute_result"
    }
   ],
   "source": [
    "index.tf_entities == index_z.tf_entities"
   ]
  },
  {
   "cell_type": "code",
   "execution_count": 104,
   "metadata": {},
   "outputs": [
    {
     "data": {
      "text/plain": [
       "{'President': 1.4054651081081644,\n",
       " 'way': 1.4054651081081644,\n",
       " 'new': 1.4054651081081644,\n",
       " 'New': 0.7123179275482191,\n",
       " 'York': 0.7123179275482191,\n",
       " 'City': 1.4054651081081644,\n",
       " 'Times': 1.4054651081081644,\n",
       " 'mentioned': 1.4054651081081644,\n",
       " 'interesting': 1.4054651081081644,\n",
       " 'story': 1.4054651081081644,\n",
       " 'think': 1.4054651081081644,\n",
       " 'great': 1.4054651081081644,\n",
       " 'travel': 1.4054651081081644,\n",
       " 'summer': 1.4054651081081644}"
      ]
     },
     "execution_count": 104,
     "metadata": {},
     "output_type": "execute_result"
    }
   ],
   "source": [
    "index.idf_tokens"
   ]
  },
  {
   "cell_type": "code",
   "execution_count": 105,
   "metadata": {},
   "outputs": [
    {
     "data": {
      "text/plain": [
       "{'Trump': 0.7123179275482191,\n",
       " 'New York': 1.0,\n",
       " 'New York City': 1.4054651081081644,\n",
       " 'New York Times': 1.4054651081081644,\n",
       " 'this summer': 1.4054651081081644}"
      ]
     },
     "execution_count": 105,
     "metadata": {},
     "output_type": "execute_result"
    }
   ],
   "source": [
    "index.idf_entities"
   ]
  }
 ],
 "metadata": {
  "kernelspec": {
   "display_name": "Python 3",
   "language": "python",
   "name": "python3"
  },
  "language_info": {
   "codemirror_mode": {
    "name": "ipython",
    "version": 3
   },
   "file_extension": ".py",
   "mimetype": "text/x-python",
   "name": "python",
   "nbconvert_exporter": "python",
   "pygments_lexer": "ipython3",
   "version": "3.6.9"
  }
 },
 "nbformat": 4,
 "nbformat_minor": 2
}
